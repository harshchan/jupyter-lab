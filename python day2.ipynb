{
 "cells": [
  {
   "cell_type": "markdown",
   "metadata": {},
   "source": [
    "# loops"
   ]
  },
  {
   "cell_type": "code",
   "execution_count": null,
   "metadata": {},
   "outputs": [],
   "source": [
    "# print numbers from 1 to 100\n"
   ]
  },
  {
   "cell_type": "code",
   "execution_count": null,
   "metadata": {},
   "outputs": [],
   "source": [
    "i=1\n",
    "while i<101:\n",
    "    print(i)\n",
    "    i=i+1"
   ]
  },
  {
   "cell_type": "code",
   "execution_count": null,
   "metadata": {},
   "outputs": [],
   "source": []
  },
  {
   "cell_type": "code",
   "execution_count": null,
   "metadata": {},
   "outputs": [],
   "source": []
  },
  {
   "cell_type": "code",
   "execution_count": null,
   "metadata": {},
   "outputs": [],
   "source": [
    "i = 3 ## initialisation\n",
    "while i < 7:   # while keyword (condition ):\n",
    "  print(i)\n",
    "  i += 1 # i=i+1"
   ]
  },
  {
   "cell_type": "code",
   "execution_count": null,
   "metadata": {},
   "outputs": [],
   "source": [
    "i = 1\n",
    "j=3\n",
    "while i < 6 or j<10:  # using the \"and \" keyword here , loop will only run when both the conditions are true\n",
    "  print(\"i=\",i,\"j=\",j)\n",
    "  i += 1\n",
    "  j=j+2"
   ]
  },
  {
   "cell_type": "code",
   "execution_count": null,
   "metadata": {},
   "outputs": [],
   "source": [
    "#for loop intro \n",
    "#syntax \n",
    "# for condition :\n",
    "#     statements\n",
    "# 3 parameters in range function  #(start,end,increment/increase)\n",
    "\n",
    "\n",
    "for i in range (0,9,1):#default step size will be 1\n",
    "    print(i)\n",
    "\n",
    "    "
   ]
  },
  {
   "cell_type": "code",
   "execution_count": null,
   "metadata": {},
   "outputs": [],
   "source": [
    "for i in range(0,9,2): #( start=0, end =9, increment=2)\n",
    "    print(i)"
   ]
  },
  {
   "cell_type": "code",
   "execution_count": null,
   "metadata": {},
   "outputs": [],
   "source": [
    "for i in range(9): # start  value will be automatically 0\n",
    "    print(i)"
   ]
  },
  {
   "cell_type": "code",
   "execution_count": null,
   "metadata": {},
   "outputs": [],
   "source": [
    "animal=\"hippo\"  #string to variable \n",
    "for i in animal:  #picks one charachter of a string everytime and prints it\n",
    "    print(i)"
   ]
  },
  {
   "cell_type": "code",
   "execution_count": null,
   "metadata": {},
   "outputs": [],
   "source": [
    "sports=[\"football\",\"cricket\",\"basketball\",\"volleyball\"]  # list of strings \n",
    "for x in sports:    # picks one string at a time and prints it\n",
    "    print(x)\n",
    "    "
   ]
  },
  {
   "cell_type": "code",
   "execution_count": null,
   "metadata": {},
   "outputs": [],
   "source": [
    "for i in range (5):\n",
    "    if i==2:  # if   statement in for loop\n",
    "        pass     # pass is a do nothing keyword \n",
    "        print(\"pass executeed\")\n",
    "    else:\n",
    "        print(i)"
   ]
  },
  {
   "cell_type": "code",
   "execution_count": null,
   "metadata": {},
   "outputs": [],
   "source": [
    "i = 3\n",
    "while i < 8:\n",
    "  print(i)\n",
    "  if i == 5:\n",
    "    print(\"break .... coming out of loop\")  # \"break\" abruptly comes out of the loop even if the condition is true \n",
    "    break\n",
    "  i += 1"
   ]
  },
  {
   "cell_type": "code",
   "execution_count": null,
   "metadata": {},
   "outputs": [],
   "source": [
    "i = 3\n",
    "while i < 8:\n",
    "  print(i)\n",
    "  if i == 5:\n",
    "    print(\"continue .... loop\") # continue will skip the iteration IE the statements below continue wont be executed in loop\n",
    "    continue\n",
    "  print(\"hello\")\n",
    "  i += 1"
   ]
  },
  {
   "cell_type": "code",
   "execution_count": null,
   "metadata": {},
   "outputs": [],
   "source": [
    "\n",
    "#else while loop\n",
    "i = 1\n",
    "while i < 6:\n",
    "  print(i)\n",
    "  i += 1\n",
    "else: \n",
    "  print(\"i is no longer less than 6\")"
   ]
  },
  {
   "cell_type": "markdown",
   "metadata": {},
   "source": [
    "# list and it's functions"
   ]
  },
  {
   "cell_type": "code",
   "execution_count": null,
   "metadata": {},
   "outputs": [],
   "source": [
    "#list declaration\n",
    "series=[\"Breaking_Bad\",\"Broklyn99\",\"MoneyHeist\"]  \n",
    "\n",
    "'''\n",
    "here breaking_bad =series[0]\n",
    "Broklyn99 =series[1]\n",
    "moneyheist=series[2]\n",
    "\n",
    "series has 3 elements ,so length of  list is 3 \n",
    "'''\n",
    "for x in series:\n",
    "    print(x)"
   ]
  },
  {
   "cell_type": "code",
   "execution_count": null,
   "metadata": {},
   "outputs": [],
   "source": [
    "series=[\"Breaking_Bad\",\"Broklyn99\",\"MoneyHeist\"]\n",
    "\n",
    "# using .append() function here to insert a new element at the end of list\n",
    "# now length of list will be 4 \n",
    "\n",
    "\n",
    "series.append(\"FRIENDS\")\n",
    "for x in series:\n",
    "    print(x)\n",
    "\n",
    "print(len(series))\n"
   ]
  },
  {
   "cell_type": "code",
   "execution_count": null,
   "metadata": {},
   "outputs": [],
   "source": [
    "series.sort()\n",
    "\n",
    "#sort the list of strings in alphabetical order \n",
    "#sort the list of integers/floats in ascending order\n",
    "for x in series:\n",
    "    print(x)"
   ]
  },
  {
   "cell_type": "code",
   "execution_count": null,
   "metadata": {},
   "outputs": [],
   "source": [
    "series.reverse()\n",
    "\n",
    "# reverses the list \n",
    "for x in series:\n",
    "    print(x)\n",
    "    \n"
   ]
  },
  {
   "cell_type": "code",
   "execution_count": null,
   "metadata": {},
   "outputs": [],
   "source": [
    "# new way of displaying a list\n",
    "#len is a function which returns length of list\n",
    "\n",
    "\n",
    "for x in range (len(series)): # for x in range(0,4):\n",
    "    print(series[x])"
   ]
  },
  {
   "cell_type": "code",
   "execution_count": null,
   "metadata": {},
   "outputs": [],
   "source": [
    "series.pop(1)\n",
    "\n",
    "# pop function takes position as arguement and removes that element from list\n",
    "\n",
    "for x in range (len(series)):\n",
    "    print(series[x])"
   ]
  },
  {
   "cell_type": "code",
   "execution_count": null,
   "metadata": {},
   "outputs": [],
   "source": [
    "#returns minimum and maximum value of list\n",
    "\n",
    "print(min(series))\n",
    "print(max(series))\n"
   ]
  },
  {
   "cell_type": "code",
   "execution_count": null,
   "metadata": {},
   "outputs": [],
   "source": [
    " # .insert() takes 2 args (pos,ele)\n",
    "    \n",
    "series.insert(2,\"hello\") # listname.insert(position,element)\n",
    "for x in range (len(series)):\n",
    "    print(series[x])"
   ]
  },
  {
   "cell_type": "code",
   "execution_count": null,
   "metadata": {},
   "outputs": [],
   "source": [
    "#Q what if we try to sort this list\n",
    "\n",
    "\n",
    "mixlist=[\"apple\",\"orange\",1,5,6,\"banana\",-2]\n",
    "mixlist.sort()\n",
    "\n",
    "for x in range (len(mixlist)):\n",
    "    print(mixlist[x])"
   ]
  },
  {
   "cell_type": "code",
   "execution_count": null,
   "metadata": {},
   "outputs": [],
   "source": [
    "mixlist.reverse()\n",
    "for x in range (len(mixlist)):\n",
    "    print(mixlist[x])"
   ]
  },
  {
   "cell_type": "code",
   "execution_count": null,
   "metadata": {},
   "outputs": [],
   "source": [
    "print(min(mixlist))\n",
    "print(max(mixlist))"
   ]
  },
  {
   "cell_type": "code",
   "execution_count": null,
   "metadata": {},
   "outputs": [],
   "source": [
    "list1=[\"hello\",\"hi\",\"hola\"]\n",
    "list2=[\"bye\",\"welcome\",\"bonjour\",\"thankyou\"]\n",
    "list3=list2+list1\n",
    "\n",
    "# using + sign  here ro make a new list which comprises of ele of lst 1 and 2  in order \n",
    "for x in range (len(list3)):\n",
    "    print(list3[x])"
   ]
  },
  {
   "cell_type": "code",
   "execution_count": null,
   "metadata": {},
   "outputs": [],
   "source": [
    "list4=list1*3 \n",
    "\n",
    "# using * sign to make a new list of size 3* repeating elements of list again and again\n",
    "for x in range (len(list4)):\n",
    "    print(list4[x])"
   ]
  },
  {
   "cell_type": "code",
   "execution_count": null,
   "metadata": {},
   "outputs": [],
   "source": []
  },
  {
   "cell_type": "markdown",
   "metadata": {},
   "source": [
    "# dictionary "
   ]
  },
  {
   "cell_type": "code",
   "execution_count": null,
   "metadata": {},
   "outputs": [],
   "source": [
    "\n",
    "#collection of key-value pairs\n",
    "\n",
    "sample_dic = dict({1: 'Welcome', 2: 'to', 3:'SIT'}) #keyword dict\n",
    "print(\"\\n printing sample dictionary: \") \n",
    "print(sample_dic) \n",
    "  "
   ]
  },
  {
   "cell_type": "code",
   "execution_count": null,
   "metadata": {},
   "outputs": [],
   "source": [
    "fruit = dict({1: 'banana', 2: 'mango', 3:'apple',4:'pineapple'})\n",
    "print(fruit)"
   ]
  },
  {
   "cell_type": "code",
   "execution_count": null,
   "metadata": {},
   "outputs": [],
   "source": [
    "\n",
    "my_dict = {'name': 'Jack', 'age': 26}\n",
    "\n",
    "#way to access value using key in dictionary\n",
    "\n",
    "print(my_dict['name'])\n",
    " \n",
    "\n",
    "print(my_dict.get('age'))\n",
    "\n",
    "\n",
    "print(my_dict.get('address'))\n",
    "\n",
    "print(my_dict['address'])\n",
    "\n",
    "#both methods are similar except in .get method we don't get error , we get output as none.\n",
    "# so we prefer .get fucntion while handling  dictionary"
   ]
  },
  {
   "cell_type": "code",
   "execution_count": null,
   "metadata": {},
   "outputs": [],
   "source": [
    "#add element into dictionary\n",
    "\n",
    "my_dict['address']=\"Mumbai\"   # name-of-dictionary[key]=value\n",
    "print(my_dict)\n",
    "\n"
   ]
  },
  {
   "cell_type": "code",
   "execution_count": null,
   "metadata": {},
   "outputs": [],
   "source": [
    "sumdictionary = {x: x+x for x in range(7)}  #{key: value, condition/loop}\n",
    "\n",
    "print(sumdictionary)"
   ]
  },
  {
   "cell_type": "code",
   "execution_count": null,
   "metadata": {},
   "outputs": [],
   "source": [
    "# another way to decalre a dictionary\n",
    "\n",
    "odd_squares = {x: x*x for x in range(8) if x % 2 == 1}\n",
    "\n",
    "print(odd_squares)"
   ]
  },
  {
   "cell_type": "code",
   "execution_count": null,
   "metadata": {},
   "outputs": [],
   "source": [
    "squares = {}        #empty dictionary\n",
    "for x in range(6):\n",
    "    squares[x] = x*x \n",
    "print(squares)"
   ]
  },
  {
   "cell_type": "code",
   "execution_count": null,
   "metadata": {},
   "outputs": [],
   "source": [
    "#q how to print all the values\n",
    "#print all the values\n",
    "squares = {1: 1, 3: 9, 5: 25, 7: 49, 9: 81}\n",
    "for i in squares:\n",
    "    print(squares[i])"
   ]
  },
  {
   "cell_type": "code",
   "execution_count": null,
   "metadata": {},
   "outputs": [],
   "source": [
    "# .fromkeys to intialise all the keys the same value\n",
    "marks = {}.fromkeys(['Math', 'English', 'Science'], 0)\n",
    "print(marks)"
   ]
  },
  {
   "cell_type": "code",
   "execution_count": null,
   "metadata": {},
   "outputs": [],
   "source": [
    "#printing keys and values of dictionary\n",
    "\n",
    "print(marks.keys())\n",
    "print(marks.values())"
   ]
  },
  {
   "cell_type": "code",
   "execution_count": null,
   "metadata": {},
   "outputs": [],
   "source": [
    "#updating the value in dictionary \n",
    "\n",
    "marks['Math']=89\n",
    "marks['English']=78\n",
    "marks['Science']=94\n",
    "marks['Social']=64\n",
    "print(marks)"
   ]
  },
  {
   "cell_type": "code",
   "execution_count": null,
   "metadata": {},
   "outputs": [],
   "source": [
    "#.copy() will create a replica of the same dictionary into another one\n",
    "\n",
    "newmarks=marks.copy()\n",
    "print(newmarks)"
   ]
  },
  {
   "cell_type": "code",
   "execution_count": null,
   "metadata": {},
   "outputs": [],
   "source": [
    "#.clear() will erase all the contents ofdictionaryand dictionary will be empty\n",
    "\n",
    "newmarks.clear()\n",
    "print(newmarks)"
   ]
  },
  {
   "cell_type": "code",
   "execution_count": null,
   "metadata": {},
   "outputs": [],
   "source": [
    "# .popitem by default pops the last kkey value pair of the dictionary\n",
    "\n",
    "newmarks=marks.copy()\n",
    "newmarks.popitem()\n",
    "#.poprint(newmarks)"
   ]
  },
  {
   "cell_type": "code",
   "execution_count": null,
   "metadata": {},
   "outputs": [],
   "source": [
    "#.pop()  removes the key value pair of the passed key \n",
    "\n",
    "newmarks.pop('English') \n",
    "print(newmarks)"
   ]
  },
  {
   "cell_type": "code",
   "execution_count": null,
   "metadata": {},
   "outputs": [],
   "source": [
    "#q"
   ]
  },
  {
   "cell_type": "markdown",
   "metadata": {},
   "source": [
    "# set and tuple"
   ]
  },
  {
   "cell_type": "markdown",
   "metadata": {},
   "source": [
    "tuple is immutable form of list \n",
    "we can't sort the tuple \n",
    "it is enclosed in paranthesis ()\n"
   ]
  },
  {
   "cell_type": "code",
   "execution_count": null,
   "metadata": {},
   "outputs": [],
   "source": [
    "\n",
    "\n",
    "sampletuple=(1,4,5,8,4,5,2)\n",
    "samplelist=[1,4,5,8,4,5,2]\n",
    "for i in samplelist:\n",
    "    print (i)\n",
    "print(\"\\n list ended \\n tuple started\")\n",
    "for i in sampletuple:\n",
    "    print(i)\n",
    "print(sampletuple)\n"
   ]
  },
  {
   "cell_type": "code",
   "execution_count": null,
   "metadata": {},
   "outputs": [],
   "source": [
    "samplelist.sort()\n",
    "print(samplelist)"
   ]
  },
  {
   "cell_type": "code",
   "execution_count": null,
   "metadata": {
    "scrolled": true
   },
   "outputs": [],
   "source": [
    "sampletuple.sort()\n",
    "print(sampletuple)"
   ]
  },
  {
   "cell_type": "code",
   "execution_count": null,
   "metadata": {},
   "outputs": [],
   "source": [
    "#convert list to tuple\n",
    "list1=[1,5,8,0,3]\n",
    "print(tuple(list1))\n"
   ]
  },
  {
   "cell_type": "code",
   "execution_count": null,
   "metadata": {},
   "outputs": [],
   "source": [
    "#string to tuple\n",
    "\n",
    "st=\"hello\"\n",
    "t=tuple(st)\n",
    "print (t)"
   ]
  },
  {
   "cell_type": "code",
   "execution_count": null,
   "metadata": {},
   "outputs": [],
   "source": [
    "# tuple can consist of int,char,string,list\n",
    "#sample tuple of mixed datatypes\n",
    "tuple1=(1,\"hello\",'h',[1,4,5])\n",
    "print(tuple1)"
   ]
  },
  {
   "cell_type": "code",
   "execution_count": null,
   "metadata": {},
   "outputs": [],
   "source": [
    "SETS"
   ]
  },
  {
   "cell_type": "code",
   "execution_count": null,
   "metadata": {
    "scrolled": true
   },
   "outputs": [],
   "source": [
    "sampleset={1,4,7,3,4,2,5,3,10,0,4}\n",
    "print(sampleset)"
   ]
  },
  {
   "cell_type": "code",
   "execution_count": null,
   "metadata": {},
   "outputs": [],
   "source": [
    "\n",
    "# adding a new element into set using .add method\n",
    "sampleset.add(100)\n",
    "print(sampleset)"
   ]
  },
  {
   "cell_type": "code",
   "execution_count": null,
   "metadata": {},
   "outputs": [],
   "source": [
    "#removing element from set using .discard method\n",
    "\n",
    "sampleset.discard(7)\n",
    "print(sampleset)"
   ]
  },
  {
   "cell_type": "code",
   "execution_count": null,
   "metadata": {},
   "outputs": [],
   "source": [
    "#adding a list to a set\n",
    "## we cannot add list to a set because list is mutable and set is immutable\n",
    "sampleset.add([19,54,78])\n",
    "print(sampleset)"
   ]
  },
  {
   "cell_type": "code",
   "execution_count": null,
   "metadata": {},
   "outputs": [],
   "source": [
    "\n",
    "#string is also immutable so we can add it to set\n",
    "\n",
    "sampleset.add(\"hello\")\n",
    "print(sampleset)"
   ]
  },
  {
   "cell_type": "code",
   "execution_count": null,
   "metadata": {},
   "outputs": [],
   "source": [
    "# tuple also is immutable so we can add\n",
    "\n",
    "sampleset.add((109,44,5,3))\n",
    "print(sampleset)"
   ]
  },
  {
   "cell_type": "markdown",
   "metadata": {},
   "source": [
    "# list iterations"
   ]
  },
  {
   "cell_type": "code",
   "execution_count": null,
   "metadata": {},
   "outputs": [],
   "source": [
    "exlist=[1,2,4,5,6]\n",
    "for i in exlist:\n",
    "    print(i)"
   ]
  },
  {
   "cell_type": "code",
   "execution_count": null,
   "metadata": {},
   "outputs": [],
   "source": [
    "#another way of printing the list\n",
    "\n",
    "for  i in range(0,len(exlist)):\n",
    "    print(exlist[i])"
   ]
  },
  {
   "cell_type": "code",
   "execution_count": null,
   "metadata": {},
   "outputs": [],
   "source": [
    "for  i in range(2,len(exlist)-1):\n",
    "    print(exlist[i])"
   ]
  },
  {
   "cell_type": "code",
   "execution_count": null,
   "metadata": {},
   "outputs": [],
   "source": [
    "for  i in range(0,len(exlist),2):\n",
    "    print(exlist[i])"
   ]
  },
  {
   "cell_type": "code",
   "execution_count": null,
   "metadata": {},
   "outputs": [],
   "source": [
    "for  i in range(0,len(exlist)):\n",
    "    if i==2:\n",
    "        print(exlist[i])"
   ]
  },
  {
   "cell_type": "code",
   "execution_count": null,
   "metadata": {},
   "outputs": [],
   "source": [
    "for  i in range(0,len(exlist)):\n",
    "    if exlist[i]==6:\n",
    "        print(exlist[i])\n",
    "        print(\"\\n the element is 6\")"
   ]
  },
  {
   "cell_type": "code",
   "execution_count": null,
   "metadata": {},
   "outputs": [],
   "source": [
    "#Q write  code to print even numbers\n",
    "#fizzbuzz"
   ]
  },
  {
   "cell_type": "code",
   "execution_count": null,
   "metadata": {},
   "outputs": [],
   "source": [
    "origlist=[1,4,5,6,7,10,48]\n",
    "duplist=[]\n",
    "print(origlist[0:4:])\n",
    "#[beginning : end : step]\n"
   ]
  },
  {
   "cell_type": "code",
   "execution_count": null,
   "metadata": {},
   "outputs": [],
   "source": [
    "print(origlist[1:5:2])"
   ]
  },
  {
   "cell_type": "code",
   "execution_count": null,
   "metadata": {},
   "outputs": [],
   "source": [
    "# Q how will you reverse the list\n",
    "\n",
    "print(origlist[::-1])"
   ]
  },
  {
   "cell_type": "code",
   "execution_count": null,
   "metadata": {},
   "outputs": [],
   "source": []
  },
  {
   "cell_type": "code",
   "execution_count": null,
   "metadata": {},
   "outputs": [],
   "source": [
    "extuple=(1,3,\"hello\",'h',[3,4,5,\"yo\"])\n",
    "print(extuple[0])"
   ]
  },
  {
   "cell_type": "code",
   "execution_count": null,
   "metadata": {},
   "outputs": [],
   "source": [
    "print(extuple[2][3])"
   ]
  },
  {
   "cell_type": "code",
   "execution_count": null,
   "metadata": {},
   "outputs": [],
   "source": [
    "#get \" y \" of yo in extuple"
   ]
  },
  {
   "cell_type": "code",
   "execution_count": null,
   "metadata": {},
   "outputs": [],
   "source": []
  },
  {
   "cell_type": "markdown",
   "metadata": {},
   "source": [
    "# functions"
   ]
  },
  {
   "cell_type": "code",
   "execution_count": null,
   "metadata": {},
   "outputs": [],
   "source": [
    "#function definition\n",
    "\n",
    "def function():\n",
    "    print(\"hello world\")\n",
    "    \n",
    "    \n",
    "#function call /main function    \n",
    "function()"
   ]
  },
  {
   "cell_type": "code",
   "execution_count": null,
   "metadata": {},
   "outputs": [],
   "source": [
    "def sumfun(a ,b):\n",
    "    s=a+b\n",
    "    print(\" sum is \",s)\n",
    "\n",
    "    #main \n",
    "x=int(input('\\n enter First Value  '))\n",
    "y=int(input(\" Enter second Value  \"))\n",
    "sumfun(x,y)\n",
    "    "
   ]
  },
  {
   "cell_type": "code",
   "execution_count": null,
   "metadata": {},
   "outputs": [],
   "source": [
    "def sumfun(a ,b):\n",
    "    s=a+b\n",
    "    return s\n",
    "\n",
    "x=int(input('\\n enter First Value  '))\n",
    "y=int(input(\" Enter second Value  \"))\n",
    "sums=sumfun(x,y)    #sums=s\n",
    "print(\"\\n sum is \",sums)"
   ]
  },
  {
   "cell_type": "code",
   "execution_count": null,
   "metadata": {},
   "outputs": [],
   "source": [
    "#recursive functions\n",
    "\n",
    "def recsum(sum):\n",
    "    a=int(input(\"\\n Enter number less than 10 \"))\n",
    "    if(a<10):\n",
    "        sum=a+sum\n",
    "        print(\"sum is \",sum)\n",
    "        recsum(sum)\n",
    "    else:\n",
    "        return 0\n",
    " \n",
    "recsum(0)\n",
    "    \n"
   ]
  }
 ],
 "metadata": {
  "kernelspec": {
   "display_name": "Python 3",
   "language": "python",
   "name": "python3"
  },
  "language_info": {
   "codemirror_mode": {
    "name": "ipython",
    "version": 3
   },
   "file_extension": ".py",
   "mimetype": "text/x-python",
   "name": "python",
   "nbconvert_exporter": "python",
   "pygments_lexer": "ipython3",
   "version": "3.9.0"
  }
 },
 "nbformat": 4,
 "nbformat_minor": 4
}
